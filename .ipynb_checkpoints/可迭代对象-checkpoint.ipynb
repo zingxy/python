{
 "cells": [
  {
   "cell_type": "markdown",
   "source": [
    " \n",
    "可迭代对象：可以直接作用于for循环：Iterable\n",
    "迭代器：可以被next()函数调用并不断返回下一个值的对象称为迭代器：Iterator。\n",
    "      生成器都是Iterator对象，但list、dict、str虽然是Iterable，却不是Iterator。\n",
    "      把list、dict、str等Iterable变成Iterator可以使用iter()函数：\n",
    "生成器："
   ],
   "metadata": {
    "collapsed": false,
    "pycharm": {
     "name": "#%% md\n"
    }
   }
  },
  {
   "cell_type": "code",
   "execution_count": 2,
   "outputs": [
    {
     "name": "stdout",
     "text": [
      "True\n"
     ],
     "output_type": "stream"
    }
   ],
   "source": [
    "from collections.abc import Iterable\n",
    "print(isinstance('abc',Iterable))"
   ],
   "metadata": {
    "collapsed": false,
    "pycharm": {
     "name": "#%%\n",
     "is_executing": false
    }
   }
  },
  {
   "cell_type": "markdown",
   "source": [
    "递归函数"
   ],
   "metadata": {
    "collapsed": false,
    "pycharm": {
     "name": "#%% md\n",
     "is_executing": false
    }
   }
  },
  {
   "cell_type": "code",
   "execution_count": null,
   "outputs": [],
   "source": [
    "def jiecheng_fun(num):\n",
    "    if num == 0 or num == 1:\n",
    "        return 1\n",
    "    else:\n",
    "        return num * jiecheng_fun(num-1)\n",
    "\n",
    "for i in jiecheng_fun(5):\n",
    "    print(i)"
   ],
   "metadata": {
    "collapsed": false,
    "pycharm": {
     "name": "#%% 简单阶乘\n"
    }
   }
  },
  {
   "cell_type": "markdown",
   "source": [
    "generator 生成器:保存状态的一种容器.生成器必定是迭代器(可迭代对象)"
   ],
   "metadata": {
    "collapsed": false,
    "pycharm": {
     "name": "#%% md\n"
    }
   }
  },
  {
   "cell_type": "code",
   "execution_count": 9,
   "outputs": [
    {
     "name": "stdout",
     "text": [
      "0\n",
      "1\n",
      "2\n",
      "3\n",
      "4\n",
      "5\n",
      "6\n",
      "7\n",
      "8\n",
      "9\n",
      "<class 'generator'>\n",
      "<class 'list'>\n"
     ],
     "output_type": "stream"
    }
   ],
   "source": [
    "#使用列表解析，注意是个圆括号\n",
    "g = (i for i in range(10))\n",
    "d = [i for i in range(100)]\n",
    "\n",
    "for i in g:\n",
    "    print(i)\n",
    "print(type(g))\n",
    "print(type(d))"
   ],
   "metadata": {
    "collapsed": false,
    "pycharm": {
     "name": "#%% \n",
     "is_executing": false
    }
   }
  },
  {
   "cell_type": "markdown",
   "source": [
    "使用函数，yield关键字，适用于生成复杂的序列"
   ],
   "metadata": {
    "collapsed": false,
    "pycharm": {
     "name": "#%% md\n"
    }
   }
  },
  {
   "cell_type": "code",
   "execution_count": 31,
   "outputs": [
    {
     "name": "stdout",
     "text": [
      "120\n"
     ],
     "output_type": "stream"
    }
   ],
   "source": [
    "def gen_func(num):\n",
    "    ret = 1\n",
    "    if num == 0:\n",
    "        yield ret\n",
    "    for i in range(1,num+1):\n",
    "        ret *= i\n",
    "        yield ret\n",
    "gen = gen_func(5)\n",
    "for i in gen:\n",
    "    print(i)\n",
    "    \n",
    "# def gen_func2(num):\n",
    "#     if num == 0 or num ==1:\n",
    "#         yield 1\n",
    "#     else:\n",
    "#         yield num * next(gen_func2(num-1))\n",
    "# \n",
    "# \n",
    "# for i in gen_func2(5):\n",
    "#     print(i)"
   ],
   "metadata": {
    "collapsed": false,
    "pycharm": {
     "name": "#%% \n",
     "is_executing": false
    }
   }
  }
 ],
 "metadata": {
  "kernelspec": {
   "display_name": "Python 3",
   "language": "python",
   "name": "python3"
  },
  "language_info": {
   "codemirror_mode": {
    "name": "ipython",
    "version": 2
   },
   "file_extension": ".py",
   "mimetype": "text/x-python",
   "name": "python",
   "nbconvert_exporter": "python",
   "pygments_lexer": "ipython2",
   "version": "2.7.6"
  },
  "pycharm": {
   "stem_cell": {
    "cell_type": "raw",
    "source": [],
    "metadata": {
     "collapsed": false
    }
   }
  }
 },
 "nbformat": 4,
 "nbformat_minor": 0
}