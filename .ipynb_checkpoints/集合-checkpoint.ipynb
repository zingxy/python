{
 "cells": [
  {
   "cell_type": "markdown",
   "metadata": {},
   "source": [
    "### (集合)\n",
    "* 不记录元素位置不支持索引,或其他序列类操作。\n",
    "* set --> 可变，支持add(),remove()，\n",
    "* frozenset --> 不可变\n",
    "* 定义集合：{'1','b'} 或set(iterable)\n",
    "``` python\n",
    "    class set(iterable)\n",
    "    class frozenset(iterable)\n",
    "    len()\n",
    "    x in s\n",
    "    x not in s\n",
    "    **s1,s2**\n",
    "    isdisjoint(other)\n",
    "    issubset(other) or s1 <= s2 ,s1 < s2（真子集）#子集/真子集\n",
    "    issupersert(other) or s1 >= s2 ,s1 > s2 #超集\n",
    "    unioin(*other) or s1 | s2 | s3 #并集\n",
    "    intersection(*other) or s1 & s2 & s3 #交集\n",
    "    diffrence(*other) or s1 - s2 - s3 #差集\n",
    "    symmetric_difference(other) or s1 ^ s2 #对称差集:返回两个集合中非公共元素 ，等价于 s1 | s2 -s1 & s2\n",
    "        \n",
    "    \n",
    "    \n",
    "    \n",
    "```"
   ]
  },
  {
   "cell_type": "code",
   "execution_count": 14,
   "metadata": {},
   "outputs": [
    {
     "data": {
      "text/plain": [
       "{0, 1, 2, 3, 4}"
      ]
     },
     "execution_count": 14,
     "metadata": {},
     "output_type": "execute_result"
    },
    {
     "data": {
      "text/plain": [
       "{0, 1, 2, 3, 4, 5, 6, 7, 8, 9}"
      ]
     },
     "execution_count": 14,
     "metadata": {},
     "output_type": "execute_result"
    },
    {
     "data": {
      "text/plain": [
       "{11, 12, 13, 14}"
      ]
     },
     "execution_count": 14,
     "metadata": {},
     "output_type": "execute_result"
    },
    {
     "data": {
      "text/plain": [
       "{0, 1, 2, 3, 4, 5, 6, 7, 8, 9, 11, 12, 13, 14}"
      ]
     },
     "execution_count": 14,
     "metadata": {},
     "output_type": "execute_result"
    },
    {
     "data": {
      "text/plain": [
       "{0, 1, 2, 3, 4, 5, 6, 7, 8, 9, 11, 12, 13, 14}"
      ]
     },
     "execution_count": 14,
     "metadata": {},
     "output_type": "execute_result"
    }
   ],
   "source": [
    "from IPython.core.interactiveshell import InteractiveShell\n",
    "InteractiveShell.ast_node_interactivity = \"all\"\n",
    "s1 = set(range(0,5))\n",
    "s2 = set(range(0,10))\n",
    "s3 = set(range(11,15))\n",
    "s1\n",
    "s2 \n",
    "s3\n",
    "s2 ^ s3\n",
    "s2 | s3 - s2 & s3"
   ]
  }
 ],
 "metadata": {
  "kernelspec": {
   "display_name": "Python 3",
   "language": "python",
   "name": "python3"
  },
  "language_info": {
   "codemirror_mode": {
    "name": "ipython",
    "version": 3
   },
   "file_extension": ".py",
   "mimetype": "text/x-python",
   "name": "python",
   "nbconvert_exporter": "python",
   "pygments_lexer": "ipython3",
   "version": "3.8.3"
  }
 },
 "nbformat": 4,
 "nbformat_minor": 4
}
