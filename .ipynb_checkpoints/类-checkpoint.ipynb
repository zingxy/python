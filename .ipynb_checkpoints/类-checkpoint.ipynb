{
 "cells": [
  {
   "cell_type": "markdown",
   "metadata": {},
   "source": [
    "# 类"
   ]
  },
  {
   "cell_type": "markdown",
   "metadata": {},
   "source": [
    "## 类的定义"
   ]
  },
  {
   "cell_type": "code",
   "execution_count": 53,
   "metadata": {},
   "outputs": [],
   "source": [
    "class Human():\n",
    "    NAME = \"Huamn\"\n",
    "    def __init__(self,name,sex='f',age=20):\n",
    "        \"\"\"初始化方法(不是构造方法)\"\"\"\n",
    "        \"\"\"通常，在这里定义实例属性\"\"\"\n",
    "        self.name = name\n",
    "        self.age = age\n",
    "        self.sex = sex\n",
    "    \n",
    "    def __str__(self):\n",
    "        \"\"\"overwrite\"\"\"\n",
    "        return 'name:{0}\\nsex:{1}\\nage:{2}'.format(self.name, self.sex, self.age)\n",
    "    \n",
    "    @classmethod\n",
    "    def getName(cls):\n",
    "        return cls.NAME"
   ]
  },
  {
   "cell_type": "code",
   "execution_count": 54,
   "metadata": {},
   "outputs": [
    {
     "name": "stdout",
     "output_type": "stream",
     "text": [
      "name:A\n",
      "sex:f\n",
      "age:20\n"
     ]
    },
    {
     "data": {
      "text/plain": [
       "'Huamn'"
      ]
     },
     "execution_count": 54,
     "metadata": {},
     "output_type": "execute_result"
    }
   ],
   "source": [
    "A = Human('A')\n",
    "print(A)\n",
    "Human.getName()"
   ]
  },
  {
   "cell_type": "markdown",
   "metadata": {},
   "source": [
    "## 继承"
   ]
  },
  {
   "cell_type": "code",
   "execution_count": 70,
   "metadata": {},
   "outputs": [],
   "source": [
    "class Student(Human):\n",
    "    \"\"\"\"\"\"\n",
    "    NAME = 'Student'\n",
    "    def __init__(self, name, sex, age, num):\n",
    "        super().__init__(name,sex,age)#super()调用符类初始化方法\n",
    "        self.number = num"
   ]
  },
  {
   "cell_type": "code",
   "execution_count": 71,
   "metadata": {},
   "outputs": [
    {
     "name": "stdout",
     "output_type": "stream",
     "text": [
      "<super: <class 'Student'>, <Student object>>\n"
     ]
    }
   ],
   "source": [
    "bob = Student('bob', sex='f',age=12, num=123)"
   ]
  },
  {
   "cell_type": "code",
   "execution_count": 60,
   "metadata": {},
   "outputs": [
    {
     "data": {
      "text/plain": [
       "'Student'"
      ]
     },
     "execution_count": 60,
     "metadata": {},
     "output_type": "execute_result"
    }
   ],
   "source": []
  }
 ],
 "metadata": {
  "kernelspec": {
   "display_name": "Python 3",
   "language": "python",
   "name": "python3"
  },
  "language_info": {
   "codemirror_mode": {
    "name": "ipython",
    "version": 3
   },
   "file_extension": ".py",
   "mimetype": "text/x-python",
   "name": "python",
   "nbconvert_exporter": "python",
   "pygments_lexer": "ipython3",
   "version": "3.7.6"
  },
  "pycharm": {
   "stem_cell": {
    "cell_type": "raw",
    "metadata": {
     "collapsed": false
    },
    "source": []
   }
  }
 },
 "nbformat": 4,
 "nbformat_minor": 4
}
