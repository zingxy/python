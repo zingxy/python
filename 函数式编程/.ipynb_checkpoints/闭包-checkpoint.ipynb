{
 "cells": [
  {
   "cell_type": "markdown",
   "metadata": {},
   "source": [
    "# 闭包"
   ]
  },
  {
   "cell_type": "code",
   "execution_count": 12,
   "metadata": {},
   "outputs": [
    {
     "name": "stdout",
     "output_type": "stream",
     "text": [
      "9\n",
      "9\n",
      "9\n",
      "9\n",
      "9\n",
      "9\n",
      "9\n",
      "9\n",
      "9\n",
      "9\n"
     ]
    }
   ],
   "source": [
    "def outer():\n",
    "    \"\"\"\"\"\"\n",
    "    def innerfunc1():\n",
    "        return i\n",
    "    \n",
    "    result = []\n",
    "    for i in range(10):\n",
    "        result.append(innerfunc1)\n",
    "    \n",
    "    return result\n",
    "result = outer()\n",
    "for i in result:\n",
    "    print(i())"
   ]
  },
  {
   "cell_type": "code",
   "execution_count": 14,
   "metadata": {},
   "outputs": [
    {
     "name": "stdout",
     "output_type": "stream",
     "text": [
      "0\n",
      "1\n",
      "2\n",
      "3\n",
      "4\n",
      "5\n",
      "6\n",
      "7\n",
      "8\n",
      "9\n"
     ]
    }
   ],
   "source": [
    "def outer1():\n",
    "    def inner(index):\n",
    "        def inner2():\n",
    "            return index\n",
    "        return inner2\n",
    "    \n",
    "    result = []\n",
    "    for i in range(10):\n",
    "        result.append(inner(i))\n",
    "        \n",
    "    return result\n",
    "for i in outer1():\n",
    "    print(i())"
   ]
  },
  {
   "cell_type": "code",
   "execution_count": 16,
   "metadata": {},
   "outputs": [
    {
     "name": "stdout",
     "output_type": "stream",
     "text": [
      "0\n",
      "1\n",
      "2\n",
      "3\n",
      "4\n",
      "5\n",
      "6\n",
      "7\n",
      "8\n",
      "9\n"
     ]
    }
   ],
   "source": [
    "def outer2():\n",
    "    def inner(index):\n",
    "        def inner2():\n",
    "            return index\n",
    "        return lambda : index**2\n",
    "    \n",
    "    result = []\n",
    "    for i in range(10):\n",
    "        result.append(inner(i))\n",
    "        \n",
    "    return result\n",
    "for i in outer2():\n",
    "    print(i())"
   ]
  }
 ],
 "metadata": {
  "kernelspec": {
   "display_name": "Python 3",
   "language": "python",
   "name": "python3"
  },
  "language_info": {
   "codemirror_mode": {
    "name": "ipython",
    "version": 3
   },
   "file_extension": ".py",
   "mimetype": "text/x-python",
   "name": "python",
   "nbconvert_exporter": "python",
   "pygments_lexer": "ipython3",
   "version": "3.7.6"
  }
 },
 "nbformat": 4,
 "nbformat_minor": 4
}
