{
 "cells": [
  {
   "cell_type": "markdown",
   "metadata": {
    "pycharm": {
     "name": "#%% md\n"
    }
   },
   "source": [
    "# 异常\n",
    "```python\n",
    "    try:\n",
    "        pass\n",
    "    except E as e:\n",
    "        # occurs exception\n",
    "    else:          \n",
    "        # no exception\n",
    "    finally:\n",
    "        pass\n",
    "    \n",
    "``` \n",
    "\n",
    "# 抛出异常\n",
    "```python\n",
    "    raise E()\n",
    "```"
   ]
  },
  {
   "cell_type": "code",
   "execution_count": 6,
   "metadata": {
    "collapsed": false,
    "jupyter": {
     "outputs_hidden": false
    },
    "pycharm": {
     "name": "#%%\n"
    }
   },
   "outputs": [
    {
     "name": "stdout",
     "output_type": "stream",
     "text": [
      "division by zero\n",
      "fuck zero\n",
      "catch this asshole\n"
     ]
    }
   ],
   "source": [
    "def func1():\n",
    "    try:\n",
    "        1/0\n",
    "    except ZeroDivisionError as e:\n",
    "        print(e)\n",
    "        raise ValueError(\"fuck zero\")\n",
    "\n",
    "def caller1():\n",
    "    try :\n",
    "        func1()\n",
    "        \n",
    "    except Exception as e:\n",
    "        print(e)\n",
    "        raise OverflowError(\"fuck overflow\")\n",
    "        \n",
    "def caller0():\n",
    "    try:\n",
    "        caller1()\n",
    "    except Exception as e:\n",
    "        pass\n",
    "    finally:\n",
    "        print(\"catch this asshole\")\n",
    "caller0()  \n",
    "    "
   ]
  },
  {
   "cell_type": "markdown",
   "metadata": {},
   "source": [
    "# 文件"
   ]
  },
  {
   "cell_type": "markdown",
   "metadata": {},
   "source": [
    "# json"
   ]
  },
  {
   "cell_type": "markdown",
   "metadata": {},
   "source": [
    "## json.dump"
   ]
  },
  {
   "cell_type": "markdown",
   "metadata": {},
   "source": [
    "## json.load"
   ]
  }
 ],
 "metadata": {
  "kernelspec": {
   "display_name": "Python 3",
   "language": "python",
   "name": "python3"
  },
  "language_info": {
   "codemirror_mode": {
    "name": "ipython",
    "version": 3
   },
   "file_extension": ".py",
   "mimetype": "text/x-python",
   "name": "python",
   "nbconvert_exporter": "python",
   "pygments_lexer": "ipython3",
   "version": "3.7.6"
  },
  "pycharm": {
   "stem_cell": {
    "cell_type": "raw",
    "metadata": {
     "collapsed": false
    },
    "source": []
   }
  }
 },
 "nbformat": 4,
 "nbformat_minor": 4
}
