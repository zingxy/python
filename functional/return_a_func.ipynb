{
 "cells": [
  {
   "cell_type": "markdown",
   "metadata": {},
   "source": [
    "### 返回函数\n",
    "> 高阶函数除了可以接受函数作为参数外，还可以把**函数当作参数返回**\n",
    "***\n",
    "* 闭包\n",
    "   > 在lazy_sum 里面嵌套定义了sum,内部函数sum **可以引用外函数的*参数和局部变量**。外部函数lazy_sum 返回 内部\n",
    "   函数sum时，参数和变量都保存在返回的函数里，这种称为**闭包Closure**。  \n",
    "* 注意\n",
    "    * 每次调用lazy_sum返回的函数都是不同的，即使传入参数相同。\n",
    "    * 返回后函数并不是马上执行，而是经过显示的调用后执行"
   ]
  },
  {
   "cell_type": "code",
   "execution_count": 20,
   "metadata": {},
   "outputs": [
    {
     "data": {
      "text/plain": [
       "False"
      ]
     },
     "execution_count": 20,
     "metadata": {},
     "output_type": "execute_result"
    }
   ],
   "source": [
    "def calc_sum(*args):\n",
    "    ax = 0\n",
    "    for i in args:\n",
    "        ax += i\n",
    "    return ax\n",
    "\n",
    "def lazy_sum(*args):\n",
    "    def sum():\n",
    "        ax = 0\n",
    "        for i in args:\n",
    "            ax = ax + i\n",
    "        return ax        #return\n",
    "    return sum           #return\n",
    "f1 = lazy_sum(1,2,3)\n",
    "f2 = lazy_sum(1,2,3)\n",
    "f1 is f2\n",
    "\n"
   ]
  },
  {
   "cell_type": "markdown",
   "metadata": {},
   "source": [
    "## 闭包\n",
    "> 下面的例子中，每次循环都定义一个新的函数，然后把创建的的3个函数返回，  \n",
    "在外部调用后，输出的结果是（9，9，9），而不是（1，4，9）  \n",
    "原因是**返回的函数引用了循环变量i,且函数并未马上执行**。等到全部函数返回时候，所引用的i已经发生变化。\n",
    "\n",
    "**返回闭包时：返回函数不要引用任何循环变量，或者后续会发生变化的量（函数执行前发生变化的量）**\n"
   ]
  },
  {
   "cell_type": "code",
   "execution_count": 22,
   "metadata": {},
   "outputs": [
    {
     "data": {
      "text/plain": [
       "(9, 9, 9)"
      ]
     },
     "execution_count": 22,
     "metadata": {},
     "output_type": "execute_result"
    }
   ],
   "source": [
    "def count():\n",
    "    fs = []\n",
    "    for i in range(1,4):\n",
    "        def f():\n",
    "            return i * i\n",
    "        fs.append(f)\n",
    "    return fs\n",
    "f1,f2,f3 = count()\n",
    "f1(),f2(),f3()"
   ]
  },
  {
   "cell_type": "markdown",
   "metadata": {},
   "source": [
    "### 引用循环变量方案\n",
    "> 创建一个函数f,让循环变量的参数传到f里面。  \n",
    "这样，循环变量就被绑定了。  \n",
    "**注意：f实际上是已经执行了的**"
   ]
  },
  {
   "cell_type": "code",
   "execution_count": 28,
   "metadata": {},
   "outputs": [
    {
     "data": {
      "text/plain": [
       "(1, 4, 9)"
      ]
     },
     "execution_count": 28,
     "metadata": {},
     "output_type": "execute_result"
    }
   ],
   "source": [
    "def count1():\n",
    "    def f(j):\n",
    "        return lambda : j * j\n",
    "    fs = []\n",
    "    for i in range(1,4):\n",
    "        fs.append(f(i))\n",
    "    return fs\n",
    "\n",
    "f1,f2,f3 = count1()\n",
    "f1(),f2(),f3()"
   ]
  },
  {
   "cell_type": "code",
   "execution_count": 41,
   "metadata": {},
   "outputs": [
    {
     "data": {
      "text/plain": [
       "2"
      ]
     },
     "execution_count": 41,
     "metadata": {},
     "output_type": "execute_result"
    }
   ],
   "source": [
    "def createCounter():\n",
    "    def counter():\n",
    "        i = 1\n",
    "        while True:\n",
    "            yield i\n",
    "            i = i + 1\n",
    "    c = counter()\n",
    "    def inner():\n",
    "        return next(c)\n",
    "    return inner\n",
    "\n",
    "counter = createCounter()\n",
    "\n"
   ]
  },
  {
   "cell_type": "markdown",
   "metadata": {},
   "source": [
    "### 闭包测试"
   ]
  },
  {
   "cell_type": "code",
   "execution_count": null,
   "metadata": {},
   "outputs": [],
   "source": [
    "   "
   ]
  }
 ],
 "metadata": {
  "kernelspec": {
   "display_name": "Python 3",
   "language": "python",
   "name": "python3"
  },
  "language_info": {
   "codemirror_mode": {
    "name": "ipython",
    "version": 3
   },
   "file_extension": ".py",
   "mimetype": "text/x-python",
   "name": "python",
   "nbconvert_exporter": "python",
   "pygments_lexer": "ipython3",
   "version": "3.7.6"
  }
 },
 "nbformat": 4,
 "nbformat_minor": 4
}
