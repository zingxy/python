{
 "cells": [
  {
   "cell_type": "markdown",
   "metadata": {},
   "source": [
    "## 匿名函数:使用lambda表达式定义的的函数\n",
    "***\n",
    "```python\n",
    "    #语法规则\n",
    "    lambda_expr        ::=  \"lambda\" [parameter_list] \":\" expression\n",
    "    lambda_expr_nocond ::=  \"lambda\" [parameter_list] \":\" expression_nocond\n",
    "    #等价于\n",
    "    def <lambda>(parameters):\n",
    "    return expression\n",
    "```\n",
    "***\n",
    "* 使用lambda 目的是定义一个匿名函数，减少代码量，特别是只需使用一次的函数\n",
    "* lambada 里面不能出现语句或者注解，只能是表达式（表达式：可以返回一个值）\n",
    "* lambada 里只能有一个表达式\n"
   ]
  },
  {
   "cell_type": "code",
   "execution_count": 14,
   "metadata": {},
   "outputs": [
    {
     "name": "stdout",
     "output_type": "stream",
     "text": [
      "1\n",
      "4\n",
      "9\n",
      "16\n",
      "25\n"
     ]
    }
   ],
   "source": [
    "g = map(lambda x:x**2,range(1,6))\n",
    "for i in g:\n",
    "    print(i)"
   ]
  },
  {
   "cell_type": "code",
   "execution_count": 18,
   "metadata": {},
   "outputs": [
    {
     "data": {
      "text/plain": [
       "15"
      ]
     },
     "execution_count": 18,
     "metadata": {},
     "output_type": "execute_result"
    }
   ],
   "source": [
    "from functools import reduce\n",
    "reduce(lambda x,y:x+y,range(1,6))"
   ]
  }
 ],
 "metadata": {
  "kernelspec": {
   "display_name": "Python 3",
   "language": "python",
   "name": "python3"
  },
  "language_info": {
   "codemirror_mode": {
    "name": "ipython",
    "version": 3
   },
   "file_extension": ".py",
   "mimetype": "text/x-python",
   "name": "python",
   "nbconvert_exporter": "python",
   "pygments_lexer": "ipython3",
   "version": "3.7.6"
  },
  "toc-autonumbering": false,
  "toc-showtags": false
 },
 "nbformat": 4,
 "nbformat_minor": 4
}
