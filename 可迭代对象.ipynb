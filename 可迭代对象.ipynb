{
 "cells": [
  {
   "cell_type": "markdown",
   "metadata": {
    "pycharm": {
     "name": "#%% md\n"
    }
   },
   "source": [
    " \n",
    "* 可迭代对象：可以直接作用于for循环：Iterable\n",
    "* 迭代器：可以被next()函数调用并不断返回下一个值的对象称为迭代器：Iterator。\n",
    "      生成器都是Iterator对象，但list、dict、str虽然是Iterable，却不是Iterator。\n",
    "      把list、dict、str等Iterable变成Iterator可以使用iter()函数：\n",
    "* 生成器："
   ]
  },
  {
   "cell_type": "code",
   "execution_count": 2,
   "metadata": {
    "collapsed": false,
    "jupyter": {
     "outputs_hidden": false
    },
    "pycharm": {
     "is_executing": false,
     "name": "#%%\n"
    }
   },
   "outputs": [
    {
     "name": "stdout",
     "output_type": "stream",
     "text": [
      "True\n"
     ]
    }
   ],
   "source": [
    "from collections.abc import Iterable\n",
    "print(isinstance('abc',Iterable))"
   ]
  },
  {
   "cell_type": "markdown",
   "metadata": {
    "pycharm": {
     "is_executing": false,
     "name": "#%% md\n"
    }
   },
   "source": [
    "递归函数"
   ]
  },
  {
   "cell_type": "code",
   "execution_count": null,
   "metadata": {
    "collapsed": false,
    "jupyter": {
     "outputs_hidden": false
    },
    "pycharm": {
     "name": "#%% 简单阶乘\n"
    }
   },
   "outputs": [],
   "source": [
    "def jiecheng_fun(num):\n",
    "    if num == 0 or num == 1:\n",
    "        return 1\n",
    "    else:\n",
    "        return num * jiecheng_fun(num-1)\n",
    "\n",
    "for i in jiecheng_fun(5):\n",
    "    print(i)"
   ]
  },
  {
   "cell_type": "markdown",
   "metadata": {
    "pycharm": {
     "name": "#%% md\n"
    }
   },
   "source": [
    "generator 生成器:保存状态的一种容器.生成器必定是迭代器(可迭代对象)"
   ]
  },
  {
   "cell_type": "code",
   "execution_count": 9,
   "metadata": {
    "collapsed": false,
    "jupyter": {
     "outputs_hidden": false
    },
    "pycharm": {
     "is_executing": false,
     "name": "#%% \n"
    }
   },
   "outputs": [
    {
     "name": "stdout",
     "output_type": "stream",
     "text": [
      "0\n",
      "1\n",
      "2\n",
      "3\n",
      "4\n",
      "5\n",
      "6\n",
      "7\n",
      "8\n",
      "9\n",
      "<class 'generator'>\n",
      "<class 'list'>\n"
     ]
    }
   ],
   "source": [
    "#使用列表解析，注意是个圆括号\n",
    "g = (i for i in range(10))\n",
    "d = [i for i in range(100)]\n",
    "\n",
    "for i in g:\n",
    "    print(i)\n",
    "print(type(g))\n",
    "print(type(d))"
   ]
  },
  {
   "cell_type": "markdown",
   "metadata": {
    "pycharm": {
     "name": "#%% md\n"
    }
   },
   "source": [
    "使用函数，yield关键字，适用于生成复杂的序列"
   ]
  },
  {
   "cell_type": "code",
   "execution_count": 31,
   "metadata": {
    "collapsed": false,
    "jupyter": {
     "outputs_hidden": false
    },
    "pycharm": {
     "is_executing": false,
     "name": "#%% \n"
    }
   },
   "outputs": [
    {
     "name": "stdout",
     "output_type": "stream",
     "text": [
      "120\n"
     ]
    }
   ],
   "source": [
    "def gen_func(num):\n",
    "    ret = 1\n",
    "    if num == 0:\n",
    "        yield ret\n",
    "    for i in range(1,num+1):\n",
    "        ret *= i\n",
    "        yield ret\n",
    "gen = gen_func(5)\n",
    "for i in gen:\n",
    "    print(i)\n",
    "    \n",
    "# def gen_func2(num):\n",
    "#     if num == 0 or num ==1:\n",
    "#         yield 1\n",
    "#     else:\n",
    "#         yield num * next(gen_func2(num-1))\n",
    "# \n",
    "# \n",
    "# for i in gen_func2(5):\n",
    "#     print(i)"
   ]
  }
 ],
 "metadata": {
  "kernelspec": {
   "display_name": "Python 3",
   "language": "python",
   "name": "python3"
  },
  "language_info": {
   "codemirror_mode": {
    "name": "ipython",
    "version": 3
   },
   "file_extension": ".py",
   "mimetype": "text/x-python",
   "name": "python",
   "nbconvert_exporter": "python",
   "pygments_lexer": "ipython3",
   "version": "3.7.6"
  },
  "pycharm": {
   "stem_cell": {
    "cell_type": "raw",
    "metadata": {
     "collapsed": false
    },
    "source": []
   }
  }
 },
 "nbformat": 4,
 "nbformat_minor": 4
}
