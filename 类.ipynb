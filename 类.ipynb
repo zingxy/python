{
 "cells": [
  {
   "cell_type": "markdown",
   "metadata": {},
   "source": [
    "# 类"
   ]
  },
  {
   "cell_type": "markdown",
   "metadata": {},
   "source": [
    "## 类的定义"
   ]
  },
  {
   "cell_type": "code",
   "execution_count": 103,
   "metadata": {},
   "outputs": [],
   "source": [
    "class Human():\n",
    "    NAME = \"Huamn\"\n",
    "    def __init__(self,name,sex='f',age=20):\n",
    "        \"\"\"初始化方法(不是构造方法)\"\"\"\n",
    "        \"\"\"通常，在这里定义实例属性\"\"\"\n",
    "        self.name = name\n",
    "        self.age = age\n",
    "        self.sex = sex\n",
    "    \n",
    "    def __str__(self):\n",
    "        \"\"\"overwrite\"\"\"\n",
    "        return 'name:{0}\\nsex:{1}\\nage:{2}'.format(self.name, self.sex, self.age)\n",
    "    \n",
    "    def sayHello(self):\n",
    "        print('Human:{0}'.format(self.name))\n",
    "    @classmethod\n",
    "    def getName(cls):\n",
    "        return cls.NAME"
   ]
  },
  {
   "cell_type": "code",
   "execution_count": 54,
   "metadata": {},
   "outputs": [
    {
     "name": "stdout",
     "output_type": "stream",
     "text": [
      "name:A\n",
      "sex:f\n",
      "age:20\n"
     ]
    },
    {
     "data": {
      "text/plain": [
       "'Huamn'"
      ]
     },
     "execution_count": 54,
     "metadata": {},
     "output_type": "execute_result"
    }
   ],
   "source": [
    "A = Human('A')\n",
    "print(A)\n",
    "Human.getName()"
   ]
  },
  {
   "cell_type": "markdown",
   "metadata": {},
   "source": [
    "## 继承"
   ]
  },
  {
   "cell_type": "code",
   "execution_count": 104,
   "metadata": {},
   "outputs": [],
   "source": [
    "class Student(Human):\n",
    "    \"\"\"\"\"\"\n",
    "    NAME = 'Student'\n",
    "    def __init__(self, name, sex, age, num):\n",
    "        super().__init__(name,sex,age)        #super()调用父类初始化方法\n",
    "        self.number = num\n",
    "        \n",
    "    def sayHello(self):\n",
    "        '''overwirite'''\n",
    "        print('Hello:{0}'.format(self.name))"
   ]
  },
  {
   "cell_type": "code",
   "execution_count": 105,
   "metadata": {},
   "outputs": [
    {
     "name": "stdout",
     "output_type": "stream",
     "text": [
      "Hello:bob\n",
      "Human:bob\n"
     ]
    }
   ],
   "source": [
    "bob = Student('bob', sex='f',age=12, num=123)\n",
    "bob.sayHello()#调用Student,sayHello\n",
    "super(Student,bob).sayHello()#调用父类sayHello"
   ]
  },
  {
   "cell_type": "markdown",
   "metadata": {},
   "source": [
    "# super()\n",
    "```python\n",
    "   \n",
    "```"
   ]
  },
  {
   "cell_type": "markdown",
   "metadata": {},
   "source": [
    "# 多继承"
   ]
  },
  {
   "cell_type": "code",
   "execution_count": 129,
   "metadata": {},
   "outputs": [],
   "source": [
    "class A:\n",
    "    \n",
    "    def a(self):\n",
    "        print(\"I'm A\")\n",
    "    \n",
    "    def getName(self):\n",
    "        return 'A'\n",
    "    \n",
    "    \n",
    "class B:\n",
    "    \n",
    "    def b(self):\n",
    "        print(\"I'm B\")\n",
    "    \n",
    "    def getName(self):\n",
    "        return 'B'\n",
    "    \n",
    "    \n",
    "    \n",
    "class C(B,A):\n",
    "    \n",
    "    def c(self):\n",
    "        print(\"'I'm C\")\n",
    "    "
   ]
  },
  {
   "cell_type": "code",
   "execution_count": 130,
   "metadata": {},
   "outputs": [
    {
     "name": "stdout",
     "output_type": "stream",
     "text": [
      "I'm A\n",
      "I'm B\n",
      "'I'm C\n"
     ]
    },
    {
     "data": {
      "text/plain": [
       "(None, None, None)"
      ]
     },
     "execution_count": 130,
     "metadata": {},
     "output_type": "execute_result"
    }
   ],
   "source": [
    "c = C()\n",
    "c.a(), c.b(), c.c()"
   ]
  },
  {
   "cell_type": "markdown",
   "metadata": {},
   "source": [
    "## A,B中有一样方法getName()\n",
    "* 子类默认按传入的顺序\n",
    "    * 如果是`class C(A,B):` 那么`c.getName()`调用A的`getName`\n",
    "    * 如果是`class C(B,A):` 那么`c.getName()`调用B的`getName`"
   ]
  }
 ],
 "metadata": {
  "kernelspec": {
   "display_name": "Python 3",
   "language": "python",
   "name": "python3"
  },
  "language_info": {
   "codemirror_mode": {
    "name": "ipython",
    "version": 3
   },
   "file_extension": ".py",
   "mimetype": "text/x-python",
   "name": "python",
   "nbconvert_exporter": "python",
   "pygments_lexer": "ipython3",
   "version": "3.7.6"
  },
  "pycharm": {
   "stem_cell": {
    "cell_type": "raw",
    "metadata": {
     "collapsed": false
    },
    "source": []
   }
  }
 },
 "nbformat": 4,
 "nbformat_minor": 4
}
