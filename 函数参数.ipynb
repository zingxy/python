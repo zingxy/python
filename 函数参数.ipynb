{
 "cells": [
  {
   "cell_type": "markdown",
   "metadata": {
    "collapsed": true,
    "pycharm": {
     "name": "#%% md\n"
    }
   },
   "source": [
    "位置参数：基于顺序"
   ]
  },
  {
   "cell_type": "code",
   "execution_count": 2,
   "outputs": [
    {
     "name": "stdout",
     "text": [
      "a: 1\n",
      "b 3\n",
      "a: 3\n",
      "b 1\n"
     ],
     "output_type": "stream"
    }
   ],
   "source": [
    "def position_fun(a,b):\n",
    "    print('a:',a)\n",
    "    print('b',b)\n",
    "position_fun(1,3)\n",
    "position_fun(3,1)"
   ],
   "metadata": {
    "collapsed": false,
    "pycharm": {
     "name": "#%%\n",
     "is_executing": false
    }
   }
  },
  {
   "cell_type": "markdown",
   "source": [
    "#关键字参数：明确指明实参对应的形参，不管其顺序"
   ],
   "metadata": {
    "collapsed": false,
    "pycharm": {
     "name": "#%% md\n"
    }
   }
  },
  {
   "cell_type": "code",
   "execution_count": 3,
   "outputs": [
    {
     "name": "stdout",
     "text": [
      "a: 1\n",
      "b 3\n",
      "a: 1\n",
      "b 3\n"
     ],
     "output_type": "stream"
    }
   ],
   "source": [
    "position_fun(a=1,b=3)\n",
    "position_fun(b=3,a=1)"
   ],
   "metadata": {
    "collapsed": false,
    "pycharm": {
     "name": "#%%\n",
     "is_executing": false
    }
   }
  },
  {
   "cell_type": "markdown",
   "source": [
    "\n",
    "#默认参数：\n",
    "#默认参数必须放在函数形参右边；\n",
    "#关键字参数不能在位置参数前；"
   ],
   "metadata": {
    "collapsed": false,
    "pycharm": {
     "name": "#%% md\n"
    }
   }
  },
  {
   "cell_type": "code",
   "execution_count": 8,
   "outputs": [
    {
     "name": "stdout",
     "text": [
      "1 1 0\n",
      "2 3 8\n",
      "12 188 0\n"
     ],
     "output_type": "stream"
    }
   ],
   "source": [
    "def default_fun(a,b,c=0):\n",
    "    print(a,b,c)\n",
    "    \n",
    "default_fun(a=1,b=1)\n",
    "default_fun(2,3,8)\n",
    "default_fun(12,b=188)"
   ],
   "metadata": {
    "collapsed": false,
    "pycharm": {
     "name": "#%%\n",
     "is_executing": false
    }
   }
  },
  {
   "cell_type": "markdown",
   "source": [
    "#传递任意数量参数\n",
    "#带星号的参数将被认为是一个元组\n",
    "#任意参数C后面必须是关键字参数，否则将无法传递"
   ],
   "metadata": {
    "collapsed": false,
    "pycharm": {
     "name": "#%% md\n"
    }
   }
  },
  {
   "cell_type": "code",
   "execution_count": 15,
   "outputs": [
    {
     "name": "stdout",
     "text": [
      "5 6\n",
      "<class 'tuple'>\n",
      "1\n",
      "3\n",
      "4\n",
      "1\n",
      "3\n",
      "4\n",
      "5\n",
      "6\n",
      "0 0\n"
     ],
     "output_type": "stream"
    }
   ],
   "source": [
    "def any_fun(*c,a,b):\n",
    "    print(a,b)\n",
    "    print(type(c))\n",
    "    for ele in c:\n",
    "        print(ele)\n",
    "        \n",
    "any_fun(1,3,4,a=5,b=6)"
   ],
   "metadata": {
    "collapsed": false,
    "pycharm": {
     "name": "#%%\n",
     "is_executing": false
    }
   }
  },
  {
   "cell_type": "code",
   "execution_count": 16,
   "outputs": [
    {
     "name": "stdout",
     "text": [
      "1\n",
      "3\n",
      "4\n",
      "5\n",
      "6\n"
     ],
     "output_type": "stream"
    }
   ],
   "source": [
    "def any_fun1(*c):\n",
    "    for ele in c:\n",
    "        print(ele)\n",
    "any_fun1(1,3,4,5,6)\n",
    "#强制关键字参数"
   ],
   "metadata": {
    "collapsed": false,
    "pycharm": {
     "name": "#%%\n",
     "is_executing": false
    }
   }
  },
  {
   "cell_type": "code",
   "execution_count": 6,
   "outputs": [
    {
     "name": "stdout",
     "text": [
      "0 0 (1, 2, 3)\n"
     ],
     "output_type": "stream"
    }
   ],
   "source": [
    "def force_fun(*c,a=0,b=0):\n",
    "    print(a,b,c)\n",
    "force_fun(1,2,3)"
   ],
   "metadata": {
    "collapsed": false,
    "pycharm": {
     "name": "#%%\n",
     "is_executing": false
    }
   }
  },
  {
   "cell_type": "markdown",
   "source": [
    "#任意数量关键字参数\n",
    "#其余参数必须在任意关键词参数前面，"
   ],
   "metadata": {
    "collapsed": false,
    "pycharm": {
     "name": "#%% md\n"
    }
   }
  },
  {
   "cell_type": "code",
   "execution_count": 21,
   "outputs": [
    {
     "name": "stdout",
     "text": [
      "a 1\n",
      "b 2\n",
      "c 3\n",
      "1 3\n",
      "<class 'dict'>\n",
      "a1 1\n",
      "b1 3\n"
     ],
     "output_type": "stream"
    }
   ],
   "source": [
    "def keyword_fun(**keyword):\n",
    "    for k,v in keyword.items():\n",
    "        print(k,v)\n",
    "\n",
    "\n",
    "keyword_fun(a=1,b=2,c=3)\n",
    "\n",
    "def keyword_fun1(a,b,**keyword):\n",
    "    print(a,b)\n",
    "    print(type(keyword))\n",
    "    for k,v in keyword.items():\n",
    "        print(k,v)\n",
    "\n",
    "keyword_fun1(1,3,a1=1,b1=3)"
   ],
   "metadata": {
    "collapsed": false,
    "pycharm": {
     "name": "#%%\n",
     "is_executing": false
    }
   }
  },
  {
   "cell_type": "markdown",
   "source": [
    "#强制关键字参数\n",
    "#中间的*号使得参数c只能使用关键字"
   ],
   "metadata": {
    "collapsed": false,
    "pycharm": {
     "name": "#%% md\n"
    }
   }
  },
  {
   "cell_type": "code",
   "execution_count": null,
   "outputs": [],
   "source": [
    "def force_keyword_func(a,b,*,c):\n",
    "    print(a+b+c)\n",
    "force_keyword_func(1,3,c=6)\n"
   ],
   "metadata": {
    "collapsed": false,
    "pycharm": {
     "name": "#%%\n"
    }
   }
  }
 ],
 "metadata": {
  "kernelspec": {
   "display_name": "Python 3",
   "language": "python",
   "name": "python3"
  },
  "language_info": {
   "codemirror_mode": {
    "name": "ipython",
    "version": 2
   },
   "file_extension": ".py",
   "mimetype": "text/x-python",
   "name": "python",
   "nbconvert_exporter": "python",
   "pygments_lexer": "ipython2",
   "version": "2.7.6"
  },
  "pycharm": {
   "stem_cell": {
    "cell_type": "raw",
    "source": [],
    "metadata": {
     "collapsed": false
    }
   }
  }
 },
 "nbformat": 4,
 "nbformat_minor": 0
}